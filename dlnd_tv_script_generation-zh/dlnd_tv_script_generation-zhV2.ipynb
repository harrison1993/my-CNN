{
 "cells": [
  {
   "cell_type": "markdown",
   "metadata": {},
   "source": [
    "# 生成电视剧剧本\n",
    "\n",
    "在这个项目中，你将使用 RNN 创作你自己的[《辛普森一家》](https://zh.wikipedia.org/wiki/%E8%BE%9B%E6%99%AE%E6%A3%AE%E4%B8%80%E5%AE%B6)电视剧剧本。你将会用到《辛普森一家》第 27 季中部分剧本的[数据集](https://www.kaggle.com/wcukierski/the-simpsons-by-the-data)。你创建的神经网络将为一个在 [Moe 酒馆](https://simpsonswiki.com/wiki/Moe's_Tavern)中的场景生成一集新的剧本。\n",
    "## 获取数据\n",
    "我们早已为你提供了数据。你将使用原始数据集的子集，它只包括 Moe 酒馆中的场景。数据中并不包括酒馆的其他版本，比如 “Moe 的山洞”、“燃烧的 Moe 酒馆”、“Moe 叔叔的家庭大餐”等等。"
   ]
  },
  {
   "cell_type": "code",
   "execution_count": 2,
   "metadata": {
    "collapsed": true
   },
   "outputs": [],
   "source": [
    "\"\"\"\n",
    "DON'T MODIFY ANYTHING IN THIS CELL\n",
    "\"\"\"\n",
    "import helper\n",
    "\n",
    "data_dir = './data/simpsons/moes_tavern_lines.txt'\n",
    "text = helper.load_data(data_dir)\n",
    "# Ignore notice, since we don't use it for analysing the data\n",
    "text = text[81:]\n",
    "#print(text)"
   ]
  },
  {
   "cell_type": "markdown",
   "metadata": {},
   "source": [
    "## 探索数据\n",
    "使用 `view_sentence_range` 来查看数据的不同部分。"
   ]
  },
  {
   "cell_type": "code",
   "execution_count": 3,
   "metadata": {},
   "outputs": [
    {
     "name": "stdout",
     "output_type": "stream",
     "text": [
      "Dataset Stats\n",
      "Roughly the number of unique words: 11492\n",
      "Number of scenes: 262\n",
      "Average number of sentences in each scene: 15.248091603053435\n",
      "Number of lines: 4257\n",
      "Average number of words in each line: 11.50434578341555\n",
      "\n",
      "The sentences 0 to 10:\n",
      "Moe_Szyslak: (INTO PHONE) Moe's Tavern. Where the elite meet to drink.\n",
      "Bart_Simpson: Eh, yeah, hello, is Mike there? Last name, Rotch.\n",
      "Moe_Szyslak: (INTO PHONE) Hold on, I'll check. (TO BARFLIES) Mike Rotch. Mike Rotch. Hey, has anybody seen Mike Rotch, lately?\n",
      "Moe_Szyslak: (INTO PHONE) Listen you little puke. One of these days I'm gonna catch you, and I'm gonna carve my name on your back with an ice pick.\n",
      "Moe_Szyslak: What's the matter Homer? You're not your normal effervescent self.\n",
      "Homer_Simpson: I got my problems, Moe. Give me another one.\n",
      "Moe_Szyslak: Homer, hey, you should not drink to forget your problems.\n",
      "Barney_Gumble: Yeah, you should only drink to enhance your social skills.\n",
      "\n",
      "\n"
     ]
    }
   ],
   "source": [
    "view_sentence_range = (0, 10)\n",
    "\n",
    "\"\"\"\n",
    "DON'T MODIFY ANYTHING IN THIS CELL\n",
    "\"\"\"\n",
    "import numpy as np\n",
    "\n",
    "print('Dataset Stats')\n",
    "print('Roughly the number of unique words: {}'.format(len({word: None for word in text.split()})))\n",
    "scenes = text.split('\\n\\n')\n",
    "print('Number of scenes: {}'.format(len(scenes)))\n",
    "sentence_count_scene = [scene.count('\\n') for scene in scenes]\n",
    "print('Average number of sentences in each scene: {}'.format(np.average(sentence_count_scene)))\n",
    "\n",
    "sentences = [sentence for scene in scenes for sentence in scene.split('\\n')]\n",
    "print('Number of lines: {}'.format(len(sentences)))\n",
    "word_count_sentence = [len(sentence.split()) for sentence in sentences]\n",
    "print('Average number of words in each line: {}'.format(np.average(word_count_sentence)))\n",
    "\n",
    "print()\n",
    "print('The sentences {} to {}:'.format(*view_sentence_range))\n",
    "print('\\n'.join(text.split('\\n')[view_sentence_range[0]:view_sentence_range[1]]))"
   ]
  },
  {
   "cell_type": "markdown",
   "metadata": {},
   "source": [
    "## 实现预处理函数\n",
    "对数据集进行的第一个操作是预处理。请实现下面两个预处理函数：\n",
    "\n",
    "- 查询表\n",
    "- 标记符号的字符串\n",
    "\n",
    "### 查询表\n",
    "要创建词嵌入，你首先要将词语转换为 id。请在这个函数中创建两个字典：\n",
    "\n",
    "- 将词语转换为 id 的字典，我们称它为 `vocab_to_int`\n",
    "- 将 id 转换为词语的字典，我们称它为 `int_to_vocab`\n",
    "\n",
    "请在下面的元组中返回这些字典\n",
    " `(vocab_to_int, int_to_vocab)`"
   ]
  },
  {
   "cell_type": "code",
   "execution_count": 5,
   "metadata": {},
   "outputs": [
    {
     "name": "stdout",
     "output_type": "stream",
     "text": [
      "Tests Passed\n"
     ]
    }
   ],
   "source": [
    "import numpy as np\n",
    "import problem_unittests as tests\n",
    "from collections import Counter\n",
    "from string import punctuation\n",
    "def create_lookup_tables(text):\n",
    "    \"\"\"\n",
    "    Create lookup tables for vocabulary\n",
    "    :param text: The text of tv scripts split into words\n",
    "    :return: A tuple of dicts (vocab_to_int, int_to_vocab)\n",
    "    \"\"\"\n",
    "    # TODO: Implement Function\n",
    "    all_text = ''.join([c for c in scenes])\n",
    "    \n",
    "    words = all_text.split()\n",
    "    counts = Counter(words)\n",
    "    vocab = set(text)\n",
    "    vocab_to_int = {word: ii for ii, word in enumerate(vocab)}\n",
    "    int_to_vocab = {ii: word for ii, word in enumerate(vocab)}\n",
    "    return vocab_to_int, int_to_vocab\n",
    "\n",
    "\n",
    "\"\"\"\n",
    "DON'T MODIFY ANYTHING IN THIS CELL THAT IS BELOW THIS LINE\n",
    "\"\"\"\n",
    "tests.test_create_lookup_tables(create_lookup_tables)"
   ]
  },
  {
   "cell_type": "markdown",
   "metadata": {},
   "source": [
    "### 标记符号的字符串\n",
    "我们会使用空格当作分隔符，来将剧本分割为词语数组。然而，句号和感叹号等符号使得神经网络难以分辨“再见”和“再见！”之间的区别。\n",
    "\n",
    "实现函数 `token_lookup` 来返回一个字典，这个字典用于将 “!” 等符号标记为 “||Exclamation_Mark||” 形式。为下列符号创建一个字典，其中符号为标志，值为标记。\n",
    "\n",
    "- period ( . )\n",
    "- comma ( , )\n",
    "- quotation mark ( \" )\n",
    "- semicolon ( ; )\n",
    "- exclamation mark ( ! )\n",
    "- question mark ( ? )\n",
    "- left parenthesis ( ( )\n",
    "- right parenthesis ( ) )\n",
    "- dash ( -- )\n",
    "- return ( \\n )\n",
    "\n",
    "这个字典将用于标记符号并在其周围添加分隔符（空格）。这能将符号视作单独词汇分割开来，并使神经网络更轻松地预测下一个词汇。请确保你并没有使用容易与词汇混淆的标记。与其使用 “dash” 这样的标记，试试使用“||dash||”。"
   ]
  },
  {
   "cell_type": "code",
   "execution_count": 6,
   "metadata": {},
   "outputs": [
    {
     "name": "stdout",
     "output_type": "stream",
     "text": [
      "Tests Passed\n"
     ]
    }
   ],
   "source": [
    "def token_lookup():\n",
    "    \"\"\"\n",
    "    Generate a dict to turn punctuation into a token.\n",
    "    :return: Tokenize dictionary where the key is the punctuation and the value is the token\n",
    "    \"\"\"\n",
    "    # TODO: Implement Function\n",
    "    punctuation_dict = {'.': '||period||', \n",
    "                    ',': '||comma||',\n",
    "                    '\"': '||quotation_mark||',\n",
    "                    ';': '||semicolon||',\n",
    "                    '!':'||exclamation_mark||',\n",
    "                    '?': '||question_mark||',\n",
    "                    '(': '||left_parenthesis||',\n",
    "                    ')': '||right_parenthesis||',\n",
    "                    '--': '||dash||',\n",
    "                    '\\n': '||return||'}\n",
    "\n",
    "    return punctuation_dict\n",
    "\n",
    "\"\"\"\n",
    "DON'T MODIFY ANYTHING IN THIS CELL THAT IS BELOW THIS LINE\n",
    "\"\"\"\n",
    "tests.test_tokenize(token_lookup)"
   ]
  },
  {
   "cell_type": "markdown",
   "metadata": {},
   "source": [
    "## 预处理并保存所有数据\n",
    "运行以下代码将预处理所有数据，并将它们保存至文件。"
   ]
  },
  {
   "cell_type": "code",
   "execution_count": 9,
   "metadata": {},
   "outputs": [],
   "source": [
    "import pickle\n",
    "import os\n",
    "\n",
    "token_dict = token_lookup()\n",
    "scenes = text.split('\\n\\n')\n",
    "all_text = ''.join([c for c in scenes])\n",
    "words = all_text.split()\n",
    "\n",
    "vocab_to_int, int_to_vocab = create_lookup_tables(words)\n",
    "\n",
    "int_text = [vocab_to_int[word] for word in words]\n",
    "#是不是helper.py出错了，我的vocab_to_int 中的moe_szyslak:是大写\n",
    "pickle.dump((int_text, vocab_to_int, int_to_vocab, token_dict), open('preprocess.p', 'wb'))"
   ]
  },
  {
   "cell_type": "code",
   "execution_count": 10,
   "metadata": {},
   "outputs": [],
   "source": [
    "\"\"\"\n",
    "DON'T MODIFY ANYTHING IN THIS CELL\n",
    "\"\"\"\n",
    "# Preprocess Training, Validation, and Testing Data\n",
    "helper.preprocess_and_save_data(data_dir, token_lookup, create_lookup_tables)"
   ]
  },
  {
   "cell_type": "markdown",
   "metadata": {},
   "source": [
    "# 检查点\n",
    "这是你遇到的第一个检点。如果你想要回到这个 notebook，或需要重新打开 notebook，你都可以从这里开始。预处理的数据都已经保存完毕。"
   ]
  },
  {
   "cell_type": "code",
   "execution_count": 11,
   "metadata": {
    "collapsed": true
   },
   "outputs": [],
   "source": [
    "\"\"\"\n",
    "DON'T MODIFY ANYTHING IN THIS CELL\n",
    "\"\"\"\n",
    "import helper\n",
    "import numpy as np\n",
    "import problem_unittests as tests\n",
    "\n",
    "int_text, vocab_to_int, int_to_vocab, token_dict = helper.load_preprocess()"
   ]
  },
  {
   "cell_type": "markdown",
   "metadata": {},
   "source": [
    "## 创建神经网络\n",
    "你将通过实现下面的函数，来创造用于构建 RNN 的必要元素：\n",
    "\n",
    "- get_inputs\n",
    "- get_init\\_cell\n",
    "- get_embed\n",
    "- build_rnn\n",
    "- build_nn\n",
    "- get_batches\n",
    "\n",
    "### 检查 TensorFlow 版本并访问 GPU"
   ]
  },
  {
   "cell_type": "code",
   "execution_count": 13,
   "metadata": {},
   "outputs": [
    {
     "name": "stdout",
     "output_type": "stream",
     "text": [
      "TensorFlow Version: 1.0.1\n",
      "Default GPU Device: /gpu:0\n"
     ]
    }
   ],
   "source": [
    "\"\"\"\n",
    "DON'T MODIFY ANYTHING IN THIS CELL\n",
    "\"\"\"\n",
    "from distutils.version import LooseVersion\n",
    "import warnings\n",
    "import tensorflow as tf\n",
    "\n",
    "# Check TensorFlow Version\n",
    "assert LooseVersion(tf.__version__) >= LooseVersion('1.0'), 'Please use TensorFlow version 1.0 or newer'\n",
    "print('TensorFlow Version: {}'.format(tf.__version__))\n",
    "\n",
    "# Check for a GPU\n",
    "if not tf.test.gpu_device_name():\n",
    "    warnings.warn('No GPU found. Please use a GPU to train your neural network.')\n",
    "else:\n",
    "    print('Default GPU Device: {}'.format(tf.test.gpu_device_name()))"
   ]
  },
  {
   "cell_type": "markdown",
   "metadata": {},
   "source": [
    "### 输入\n",
    "\n",
    "实现函数 `get_inputs()` 来为神经网络创建 TF 占位符。它将创建下列占位符：\n",
    "\n",
    "- 使用 [TF 占位符](https://www.tensorflow.org/api_docs/python/tf/placeholder) `name` 参量输入 \"input\" 文本占位符。\n",
    "- Targets 占位符\n",
    "- Learning Rate 占位符\n",
    "\n",
    "返回下列元组中的占位符 `(Input, Targets, LearningRate)`"
   ]
  },
  {
   "cell_type": "code",
   "execution_count": 51,
   "metadata": {},
   "outputs": [
    {
     "name": "stdout",
     "output_type": "stream",
     "text": [
      "Tests Passed\n"
     ]
    }
   ],
   "source": [
    "def get_inputs():\n",
    "    \"\"\"\n",
    "    Create TF Placeholders for input, targets, and learning rate.\n",
    "    :return: Tuple (input, targets, learning rate)\n",
    "    \"\"\"\n",
    "    \n",
    "    # TODO: Implement Function\n",
    "    Input = tf.placeholder(tf.int32,[None,None ], name='input')\n",
    "    Targets = tf.placeholder(tf.int32, [None,None ], name='targets')\n",
    "    LearningRate = tf.placeholder(tf.float32, name='learningrate')\n",
    "    return Input, Targets, LearningRate\n",
    "\n",
    "\n",
    "\"\"\"\n",
    "DON'T MODIFY ANYTHING IN THIS CELL THAT IS BELOW THIS LINE\n",
    "\"\"\"\n",
    "tests.test_get_inputs(get_inputs)"
   ]
  },
  {
   "cell_type": "markdown",
   "metadata": {},
   "source": [
    "### 创建 RNN Cell 并初始化\n",
    "\n",
    "在 [`MultiRNNCell`](https://www.tensorflow.org/api_docs/python/tf/contrib/rnn/MultiRNNCell) 中堆叠一个或多个 [`BasicLSTMCells`](https://www.tensorflow.org/api_docs/python/tf/contrib/rnn/BasicLSTMCell)\n",
    "\n",
    "- 使用 `rnn_size` 设定 RNN 大小。\n",
    "- 使用 MultiRNNCell 的 [`zero_state()`](https://www.tensorflow.org/api_docs/python/tf/contrib/rnn/MultiRNNCell#zero_state) 函数初始化 Cell 状态\n",
    "- 使用 [`tf.identity()`](https://www.tensorflow.org/api_docs/python/tf/identity) 为初始状态应用名称 \"initial_state\"\n",
    " \n",
    "\n",
    "返回 cell 和下列元组中的初始状态 `(Cell, InitialState)`"
   ]
  },
  {
   "cell_type": "code",
   "execution_count": 16,
   "metadata": {},
   "outputs": [
    {
     "name": "stdout",
     "output_type": "stream",
     "text": [
      "Tests Passed\n"
     ]
    }
   ],
   "source": [
    "def get_init_cell(batch_size, rnn_size, n_layers=2):\n",
    "    \"\"\"\n",
    "    Create an RNN Cell and initialize it.\n",
    "    :param batch_size: Size of batches\n",
    "    :param rnn_size: Size of RNNs\n",
    "    :return: Tuple (cell, initialize state)\n",
    "    \"\"\"\n",
    "    # TODO: Implement Function\n",
    "    # basic LSTM cell#设置rnn层数\n",
    "    def make_lstm(rnn_size):\n",
    "        return tf.contrib.rnn.BasicLSTMCell(rnn_size)\n",
    "#    batch_size = batch_size\n",
    "    #使用make_lstm 来堆叠RNN层数\n",
    "    cell = tf.contrib.rnn.MultiRNNCell([ make_lstm(rnn_size) for _ in range(n_layers)])\n",
    "    \n",
    "#    lstm = tf.contrib.rnn.BasicLSTMCell(rnn_size)  \n",
    "#    Cell = tf.contrib.rnn.MultiRNNCell([lstm]* 1)\n",
    "    \n",
    "    initial_state = cell.zero_state(batch_size, tf.float32)\n",
    "    initial_state = tf.identity(initial_state, name='initial_state') \n",
    "    return (cell, initial_state)\n",
    "\n",
    "\n",
    "\"\"\"\n",
    "DON'T MODIFY ANYTHING IN THIS CELL THAT IS BELOW THIS LINE\n",
    "\"\"\"\n",
    "tests.test_get_init_cell(get_init_cell)"
   ]
  },
  {
   "cell_type": "markdown",
   "metadata": {},
   "source": [
    "### 词嵌入\n",
    "使用 TensorFlow 将嵌入运用到 `input_data` 中。\n",
    "返回嵌入序列。"
   ]
  },
  {
   "cell_type": "code",
   "execution_count": 19,
   "metadata": {},
   "outputs": [
    {
     "name": "stdout",
     "output_type": "stream",
     "text": [
      "Tests Passed\n"
     ]
    }
   ],
   "source": [
    "def get_embed(input_data, vocab_size, embed_dim):\n",
    "    \"\"\"\n",
    "    Create embedding for <input_data>.\n",
    "    :param input_data: TF placeholder for text input.\n",
    "    :param vocab_size: Number of words in vocabulary.\n",
    "    :param embed_dim: Number of embedding dimensions\n",
    "    :return: Embedded input.\n",
    "    \"\"\"\n",
    "    # TODO: Implement Function\n",
    "    embedding = tf.Variable(tf.random_uniform((vocab_size, embed_dim), -1, 1))\n",
    "    embed = tf.nn.embedding_lookup(embedding, input_data)\n",
    "    return embed\n",
    "\n",
    "\n",
    "\"\"\"\n",
    "DON'T MODIFY ANYTHING IN THIS CELL THAT IS BELOW THIS LINE\n",
    "\"\"\"\n",
    "tests.test_get_embed(get_embed)"
   ]
  },
  {
   "cell_type": "markdown",
   "metadata": {},
   "source": [
    "### 创建 RNN\n",
    "你已经在 `get_init_cell()` 函数中创建了 RNN Cell。是时候使用这个 Cell 来创建 RNN了。\n",
    "\n",
    "- 使用 [`tf.nn.dynamic_rnn()`](https://www.tensorflow.org/api_docs/python/tf/nn/dynamic_rnn) 创建 RNN\n",
    "- 使用 [`tf.identity()`](https://www.tensorflow.org/api_docs/python/tf/identity) 将名称 \"final_state\" 应用到最终状态中\n",
    "\n",
    "\n",
    "返回下列元组中的输出和最终状态`(Outputs, FinalState)`"
   ]
  },
  {
   "cell_type": "code",
   "execution_count": 20,
   "metadata": {},
   "outputs": [
    {
     "name": "stdout",
     "output_type": "stream",
     "text": [
      "Tests Passed\n"
     ]
    }
   ],
   "source": [
    "def build_rnn(cell, inputs):\n",
    "    \"\"\"\n",
    "    Create a RNN using a RNN Cell\n",
    "    :param cell: RNN Cell\n",
    "    :param inputs: Input text data\n",
    "    :return: Tuple (Outputs, FinalState)\n",
    "    \"\"\"\n",
    "    # TODO: Implement Function\n",
    "    Outputs,FinalState= tf.nn.dynamic_rnn(cell, inputs, dtype=tf.float32)   \n",
    "    FinalState= tf.identity(FinalState, name= 'final_state')\n",
    "    return Outputs, FinalState\n",
    "\n",
    "\n",
    "\"\"\"\n",
    "DON'T MODIFY ANYTHING IN THIS CELL THAT IS BELOW THIS LINE\n",
    "\"\"\"\n",
    "tests.test_build_rnn(build_rnn)"
   ]
  },
  {
   "cell_type": "markdown",
   "metadata": {},
   "source": [
    "### 构建神经网络\n",
    "应用你在上面实现的函数，来：\n",
    "\n",
    "- 使用你的 `get_embed(input_data, vocab_size, embed_dim)` 函数将嵌入应用到 `input_data` 中\n",
    "- 使用 `cell` 和你的 `build_rnn(cell, inputs)` 函数来创建 RNN\n",
    "- 应用一个完全联通线性激活和 `vocab_size` 的分层作为输出数量。\n",
    "\n",
    "返回下列元组中的 logit 和最终状态 `Logits, FinalState`"
   ]
  },
  {
   "cell_type": "code",
   "execution_count": 21,
   "metadata": {},
   "outputs": [
    {
     "name": "stdout",
     "output_type": "stream",
     "text": [
      "Tests Passed\n"
     ]
    }
   ],
   "source": [
    "def build_nn(cell, rnn_size, input_data, vocab_size, embed_dim):\n",
    "    \"\"\"\n",
    "    Build part of the neural network\n",
    "    :param cell: RNN cell\n",
    "    :param rnn_size: Size of rnns\n",
    "    :param input_data: Input data\n",
    "    :param vocab_size: Vocabulary size\n",
    "    :param embed_dim: Number of embedding dimensions\n",
    "    :return: Tuple (Logits, FinalState)\n",
    "    \"\"\"\n",
    "    # TODO: Implement Function\n",
    "    embed = get_embed(input_data, vocab_size, embed_dim)\n",
    "    Outputs, FinalState = build_rnn(cell, embed)\n",
    "    Logits = tf.contrib.layers.fully_connected(Outputs, vocab_size, activation_fn=None)\n",
    "    #FinalState= tf.identity(FinalState, name= 'final_state')\n",
    "    return (Logits, FinalState)\n",
    "\n",
    "\n",
    "\"\"\"\n",
    "DON'T MODIFY ANYTHING IN THIS CELL THAT IS BELOW THIS LINE\n",
    "\"\"\"\n",
    "tests.test_build_nn(build_nn)"
   ]
  },
  {
   "cell_type": "markdown",
   "metadata": {},
   "source": [
    "### 批次\n",
    "\n",
    "实现 `get_batches` 来使用 `int_text` 创建输入与目标批次。这些批次应为 Numpy 数组，并具有形状 `(number of batches, 2, batch size, sequence length)`。每个批次包含两个元素：\n",
    "\n",
    "- 第一个元素为**输入**的单独批次，并具有形状 `[batch size, sequence length]`\n",
    "- 第二个元素为**目标**的单独批次，并具有形状 `[batch size, sequence length]`\n",
    "\n",
    "如果你无法在最后一个批次中填入足够数据，请放弃这个批次。\n",
    "\n",
    "例如 `get_batches([1, 2, 3, 4, 5, 6, 7, 8, 9, 10, 11, 12, 13, 14, 15], 2, 3)` 将返回下面这个 Numpy 数组：\n",
    "```\n",
    "[\n",
    "  # First Batch\n",
    "  [\n",
    "    # Batch of Input\n",
    "    [[ 1  2  3], [ 7  8  9]],\n",
    "    # Batch of targets\n",
    "    [[ 2  3  4], [ 8  9 10]]\n",
    "  ],\n",
    " \n",
    "  # Second Batch\n",
    "  [\n",
    "    # Batch of Input\n",
    "    [[ 4  5  6], [10 11 12]],\n",
    "    # Batch of targets\n",
    "    [[ 5  6  7], [11 12 13]]\n",
    "  ]\n",
    "]\n",
    "```"
   ]
  },
  {
   "cell_type": "code",
   "execution_count": 38,
   "metadata": {},
   "outputs": [
    {
     "ename": "IndentationError",
     "evalue": "unexpected indent (<ipython-input-38-9832a97c61b2>, line 38)",
     "output_type": "error",
     "traceback": [
      "\u001b[1;36m  File \u001b[1;32m\"<ipython-input-38-9832a97c61b2>\"\u001b[1;36m, line \u001b[1;32m38\u001b[0m\n\u001b[1;33m    n_batch=(len(int_text)-1)//(batch_size*seq_length)\u001b[0m\n\u001b[1;37m    ^\u001b[0m\n\u001b[1;31mIndentationError\u001b[0m\u001b[1;31m:\u001b[0m unexpected indent\n"
     ]
    }
   ],
   "source": [
    "def get_batches(int_text, batch_size, seq_length):\n",
    "    \"\"\"\n",
    "    Return batches of input and target\n",
    "    :param int_text: Text with the words replaced by their ids\n",
    "    :param batch_size: The size of batch\n",
    "    :param seq_length: The length of sequence\n",
    "    :return: Batches as a Numpy array\n",
    "    \"\"\"\n",
    "    n_batch=(len(int_text)-1)//(batch_size*seq_length)\n",
    "    int_text=int_text[:n_batch*batch_size*seq_length+1]\n",
    "     # Reshape into batch_size rows\n",
    "    input_texts = np.array(int_text[:-1]).reshape((batch_size,-1))\n",
    "    targets=np.array(int_text[1:]).reshape((batch_size,-1))\n",
    "    batches=[]\n",
    "    for n in range(0, input_texts.shape[1], seq_length):\n",
    "        x = input_texts[:, n:n+seq_length]\n",
    "        y = targets[:, n:n+seq_length]    \n",
    "        batches.append([x,y])            \n",
    "    return np.array(batches)  \n",
    "\n",
    "'''\n",
    "    # TODO: Implement Function\n",
    "    num_int_text = len(int_text)//seq_length*seq_length   \n",
    "    int_text = int_text[:num_int_text]\n",
    "    len_text_In = len(int_text)-(seq_length)\n",
    "    len_text_Out = len(int_text)-(seq_length-1)\n",
    "    Input_ = int_text[:len_text_In]\n",
    "    Output_ = int_text[1:len_text_Out]\n",
    "    i=0\n",
    "    c = [0]*((len_text_In//seq_length))\n",
    "    for ii in range(0, len_text_In, seq_length):\n",
    "        x = []\n",
    "        a = np.array([Input_[ii:ii+seq_length]])\n",
    "        b = np.array([Output_[ii:ii+seq_length]])     \n",
    "        c[i] = np.vstack((a,b))\n",
    "    #        x.extend(c[i])\n",
    "        i=i+1\n",
    "    c = np.reshape(c,(-1,seq_length))\n",
    "    #    print(i*2)\n",
    "    num_batch = i//batch_size\n",
    "    delt_num =i*2-num_batch*2*batch_size\n",
    "    all_num = i*2-delt_num\n",
    "    batchess = c[:all_num,]\n",
    "    Batches = np.reshape(batchess,(num_batch,2,batch_size,seq_length))\n",
    "    #    print(all_num)\n",
    "    #    print(d.shape)\n",
    "    return Batches\n",
    "'''  \n",
    "#'''\n",
    "\n",
    "#''' \n",
    "\n",
    " \n",
    "  \n",
    "\"\"\"\n",
    "DON'T MODIFY ANYTHING IN THIS CELL THAT IS BELOW THIS LINE\n",
    "\"\"\"\n",
    "\n",
    "tests.test_get_batches(get_batches)\n"
   ]
  },
  {
   "cell_type": "code",
   "execution_count": 39,
   "metadata": {
    "collapsed": true
   },
   "outputs": [],
   "source": [
    "def get_batches_1(int_text, batch_size, seq_length):\n",
    "    # TODO: Implement Function\n",
    "    num_int_text = len(int_text)//seq_length*seq_length   \n",
    "    int_text = int_text[:num_int_text]\n",
    "    len_text_In = len(int_text)-(seq_length)\n",
    "    len_text_Out = len(int_text)-(seq_length-1)\n",
    "    Input_ = int_text[:len_text_In]\n",
    "    Output_ = int_text[1:len_text_Out]\n",
    "    i=0\n",
    "    c = [0]*((len_text_In//seq_length))\n",
    "    for ii in range(0, len_text_In, seq_length):\n",
    "        x = []\n",
    "        a = np.array([Input_[ii:ii+seq_length]])\n",
    "        b = np.array([Output_[ii:ii+seq_length]])     \n",
    "        c[i] = np.vstack((a,b))\n",
    "    #        x.extend(c[i])\n",
    "        i=i+1\n",
    "    c = np.reshape(c,(-1,seq_length))\n",
    "    #    print(i*2)\n",
    "    num_batch = i//batch_size\n",
    "    delt_num =i*2-num_batch*2*batch_size\n",
    "    all_num = i*2-delt_num\n",
    "    batchess = c[:all_num,]\n",
    "    Batches = np.reshape(batchess,(num_batch,2,batch_size,seq_length))\n",
    "    #    print(all_num)\n",
    "    #    print(d.shape)\n",
    "    return Batches"
   ]
  },
  {
   "cell_type": "code",
   "execution_count": 46,
   "metadata": {},
   "outputs": [
    {
     "name": "stdout",
     "output_type": "stream",
     "text": [
      "[[[[ 1  2  3]\n",
      "   [ 2  3  4]]\n",
      "\n",
      "  [[ 4  5  6]\n",
      "   [ 5  6  7]]]\n",
      "\n",
      "\n",
      " [[[ 7  8  9]\n",
      "   [ 8  9 10]]\n",
      "\n",
      "  [[10 11 12]\n",
      "   [11 12 13]]]\n",
      "\n",
      "\n",
      " [[[13 14 15]\n",
      "   [14 15 16]]\n",
      "\n",
      "  [[16 17 18]\n",
      "   [17 18 19]]]]\n",
      "(3, 2, 2, 3)\n"
     ]
    }
   ],
   "source": [
    "print(get_batches_1(list(range(1,24)), 2, 3)) #嗯？一样得呀，我写得比较复杂了。\n",
    "print((get_batches_1(list(range(1,24)), 2, 3)).shape)"
   ]
  },
  {
   "cell_type": "code",
   "execution_count": 47,
   "metadata": {},
   "outputs": [
    {
     "name": "stdout",
     "output_type": "stream",
     "text": [
      "[[[[ 1  2  3]\n",
      "   [ 2  3  4]]\n",
      "\n",
      "  [[ 4  5  6]\n",
      "   [ 5  6  7]]]\n",
      "\n",
      "\n",
      " [[[ 7  8  9]\n",
      "   [ 8  9 10]]\n",
      "\n",
      "  [[10 11 12]\n",
      "   [11 12 13]]]\n",
      "\n",
      "\n",
      " [[[13 14 15]\n",
      "   [14 15 16]]\n",
      "\n",
      "  [[16 17 18]\n",
      "   [17 18 19]]]]\n",
      "(3, 2, 2, 3)\n"
     ]
    }
   ],
   "source": [
    "print(get_batches(list(range(1,24)), 2,3))\n",
    "print((get_batches(list(range(1,24)), 2, 3)).shape)"
   ]
  },
  {
   "cell_type": "code",
   "execution_count": 204,
   "metadata": {},
   "outputs": [
    {
     "name": "stdout",
     "output_type": "stream",
     "text": [
      "48970\n",
      "(76, 2, 128, 5)\n"
     ]
    }
   ],
   "source": [
    "batch_size = 128\n",
    "seq_length = 5\n",
    "int_text1 = list(range(48974))\n",
    "num_int_text = len(int_text1)//seq_length*seq_length   \n",
    "int_text1 = int_text1[:num_int_text]\n",
    "len_text_In = len(int_text1)-(seq_length)\n",
    "len_text_Out = len(int_text1)-(seq_length-1)\n",
    "Input_ = int_text1[:len_text_In]\n",
    "Output_ = int_text1[1:len_text_Out]\n",
    "i=0\n",
    "if len(int_text)%2 == 0:\n",
    "    c = [0]*((len_text_In//seq_length))\n",
    "else:\n",
    "    c = [0]*((len_text_In//seq_length)+1)\n",
    "for ii in range(0, len_text_In, seq_length):\n",
    "    x = []\n",
    "    a = np.array([Input_[ii:ii+seq_length]])\n",
    "    b = np.array([Output_[ii:ii+seq_length]])     \n",
    "    c[i] = np.vstack((a,b))\n",
    "#        x.extend(c[i])\n",
    "    i=i+1\n",
    "c = np.reshape(c,(-1,seq_length))\n",
    "#    print(i*2)\n",
    "num_batch = i//batch_size\n",
    "delt_num =i*2-num_batch*2*128\n",
    "all_num = i*2-delt_num\n",
    "batchess = c[:all_num,]\n",
    "print(num_int_text)\n",
    "Batches = np.reshape(batchess,(num_batch,2,batch_size,seq_length))\n",
    "#print(Batches)\n",
    "print(Batches.shape)"
   ]
  },
  {
   "cell_type": "markdown",
   "metadata": {},
   "source": [
    "## 神经网络训练\n",
    "### 超参数\n",
    "调整下列参数:\n",
    "\n",
    "- 将 `num_epochs` 设置为训练次数。\n",
    "- 将 `batch_size` 设置为程序组大小。\n",
    "- 将 `rnn_size` 设置为 RNN 大小。\n",
    "- 将 `embed_dim` 设置为嵌入大小。\n",
    "- 将 `seq_length` 设置为序列长度。\n",
    "- 将 `learning_rate` 设置为学习率。\n",
    "- 将 `show_every_n_batches` 设置为神经网络应输出的程序组数量。"
   ]
  },
  {
   "cell_type": "code",
   "execution_count": 49,
   "metadata": {
    "collapsed": true
   },
   "outputs": [],
   "source": [
    "# Number of Epochs\n",
    "num_epochs = 250\n",
    "# Batch Size\n",
    "batch_size = 512\n",
    "# RNN Size\n",
    "rnn_size = 256\n",
    "# Embedding Dimension Size\n",
    "embed_dim = 150\n",
    "# Sequence Length\n",
    "seq_length = 12\n",
    "# Learning Rate\n",
    "learning_rate = 0.002\n",
    "# Show stats for every n number of batches\n",
    "show_every_n_batches = 10\n",
    "\n",
    "\"\"\"\n",
    "DON'T MODIFY ANYTHING IN THIS CELL THAT IS BELOW THIS LINE\n",
    "\"\"\"\n",
    "save_dir = './save'"
   ]
  },
  {
   "cell_type": "markdown",
   "metadata": {},
   "source": [
    "### 创建图表\n",
    "使用你实现的神经网络创建图表。"
   ]
  },
  {
   "cell_type": "code",
   "execution_count": 52,
   "metadata": {},
   "outputs": [],
   "source": [
    "\"\"\"\n",
    "DON'T MODIFY ANYTHING IN THIS CELL\n",
    "\"\"\"\n",
    "from tensorflow.contrib import seq2seq\n",
    "\n",
    "train_graph = tf.Graph()\n",
    "with train_graph.as_default():\n",
    "    vocab_size = len(int_to_vocab)\n",
    "    input_text, targets, lr = get_inputs()\n",
    "    input_data_shape = tf.shape(input_text)\n",
    "    cell, initial_state = get_init_cell(input_data_shape[0], rnn_size)\n",
    "    logits, final_state = build_nn(cell, rnn_size, input_text, vocab_size, embed_dim)\n",
    "\n",
    "    # Probabilities for generating words\n",
    "    probs = tf.nn.softmax(logits, name='probs')\n",
    "\n",
    "    # Loss function\n",
    "    cost = seq2seq.sequence_loss(\n",
    "        logits,\n",
    "        targets,\n",
    "        tf.ones([input_data_shape[0], input_data_shape[1]]))\n",
    "\n",
    "    # Optimizer\n",
    "    optimizer = tf.train.AdamOptimizer(lr)\n",
    "\n",
    "    # Gradient Clipping\n",
    "    gradients = optimizer.compute_gradients(cost)\n",
    "    capped_gradients = [(tf.clip_by_value(grad, -1., 1.), var) for grad, var in gradients if grad is not None]\n",
    "    train_op = optimizer.apply_gradients(capped_gradients)"
   ]
  },
  {
   "cell_type": "markdown",
   "metadata": {},
   "source": [
    "## 训练\n",
    "在预处理数据中训练神经网络。如果你遇到困难，请查看这个[表格](https://discussions.udacity.com/)，看看是否有人遇到了和你一样的问题。"
   ]
  },
  {
   "cell_type": "code",
   "execution_count": 53,
   "metadata": {},
   "outputs": [
    {
     "name": "stdout",
     "output_type": "stream",
     "text": [
      "Epoch   0 Batch    0/11   train_loss = 8.822\n",
      "Epoch   0 Batch   10/11   train_loss = 6.596\n",
      "Epoch   1 Batch    9/11   train_loss = 6.147\n",
      "Epoch   2 Batch    8/11   train_loss = 6.175\n",
      "Epoch   3 Batch    7/11   train_loss = 6.029\n",
      "Epoch   4 Batch    6/11   train_loss = 5.978\n",
      "Epoch   5 Batch    5/11   train_loss = 5.987\n",
      "Epoch   6 Batch    4/11   train_loss = 5.840\n",
      "Epoch   7 Batch    3/11   train_loss = 5.812\n",
      "Epoch   8 Batch    2/11   train_loss = 5.895\n",
      "Epoch   9 Batch    1/11   train_loss = 5.877\n",
      "Epoch  10 Batch    0/11   train_loss = 5.876\n",
      "Epoch  10 Batch   10/11   train_loss = 5.893\n",
      "Epoch  11 Batch    9/11   train_loss = 5.877\n",
      "Epoch  12 Batch    8/11   train_loss = 6.043\n",
      "Epoch  13 Batch    7/11   train_loss = 5.909\n",
      "Epoch  14 Batch    6/11   train_loss = 5.893\n",
      "Epoch  15 Batch    5/11   train_loss = 5.925\n",
      "Epoch  16 Batch    4/11   train_loss = 5.793\n",
      "Epoch  17 Batch    3/11   train_loss = 5.761\n",
      "Epoch  18 Batch    2/11   train_loss = 5.848\n",
      "Epoch  19 Batch    1/11   train_loss = 5.840\n",
      "Epoch  20 Batch    0/11   train_loss = 5.840\n",
      "Epoch  20 Batch   10/11   train_loss = 5.856\n",
      "Epoch  21 Batch    9/11   train_loss = 5.842\n",
      "Epoch  22 Batch    8/11   train_loss = 6.005\n",
      "Epoch  23 Batch    7/11   train_loss = 5.880\n",
      "Epoch  24 Batch    6/11   train_loss = 5.862\n",
      "Epoch  25 Batch    5/11   train_loss = 5.899\n",
      "Epoch  26 Batch    4/11   train_loss = 5.771\n",
      "Epoch  27 Batch    3/11   train_loss = 5.741\n",
      "Epoch  28 Batch    2/11   train_loss = 5.828\n",
      "Epoch  29 Batch    1/11   train_loss = 5.819\n",
      "Epoch  30 Batch    0/11   train_loss = 5.818\n",
      "Epoch  30 Batch   10/11   train_loss = 5.834\n",
      "Epoch  31 Batch    9/11   train_loss = 5.822\n",
      "Epoch  32 Batch    8/11   train_loss = 5.978\n",
      "Epoch  33 Batch    7/11   train_loss = 5.860\n",
      "Epoch  34 Batch    6/11   train_loss = 5.837\n",
      "Epoch  35 Batch    5/11   train_loss = 5.874\n",
      "Epoch  36 Batch    4/11   train_loss = 5.745\n",
      "Epoch  37 Batch    3/11   train_loss = 5.714\n",
      "Epoch  38 Batch    2/11   train_loss = 5.795\n",
      "Epoch  39 Batch    1/11   train_loss = 5.796\n",
      "Epoch  40 Batch    0/11   train_loss = 5.795\n",
      "Epoch  40 Batch   10/11   train_loss = 5.811\n",
      "Epoch  41 Batch    9/11   train_loss = 5.800\n",
      "Epoch  42 Batch    8/11   train_loss = 5.960\n",
      "Epoch  43 Batch    7/11   train_loss = 5.846\n",
      "Epoch  44 Batch    6/11   train_loss = 5.814\n",
      "Epoch  45 Batch    5/11   train_loss = 5.858\n",
      "Epoch  46 Batch    4/11   train_loss = 5.735\n",
      "Epoch  47 Batch    3/11   train_loss = 5.699\n",
      "Epoch  48 Batch    2/11   train_loss = 5.774\n",
      "Epoch  49 Batch    1/11   train_loss = 5.773\n",
      "Epoch  50 Batch    0/11   train_loss = 5.771\n",
      "Epoch  50 Batch   10/11   train_loss = 5.785\n",
      "Epoch  51 Batch    9/11   train_loss = 5.769\n",
      "Epoch  52 Batch    8/11   train_loss = 5.921\n",
      "Epoch  53 Batch    7/11   train_loss = 5.810\n",
      "Epoch  54 Batch    6/11   train_loss = 5.777\n",
      "Epoch  55 Batch    5/11   train_loss = 5.821\n",
      "Epoch  56 Batch    4/11   train_loss = 5.688\n",
      "Epoch  57 Batch    3/11   train_loss = 5.675\n",
      "Epoch  58 Batch    2/11   train_loss = 5.748\n",
      "Epoch  59 Batch    1/11   train_loss = 5.744\n",
      "Epoch  60 Batch    0/11   train_loss = 5.741\n",
      "Epoch  60 Batch   10/11   train_loss = 5.754\n",
      "Epoch  61 Batch    9/11   train_loss = 5.745\n",
      "Epoch  62 Batch    8/11   train_loss = 5.904\n",
      "Epoch  63 Batch    7/11   train_loss = 5.811\n",
      "Epoch  64 Batch    6/11   train_loss = 5.751\n",
      "Epoch  65 Batch    5/11   train_loss = 5.798\n",
      "Epoch  66 Batch    4/11   train_loss = 5.663\n",
      "Epoch  67 Batch    3/11   train_loss = 5.635\n",
      "Epoch  68 Batch    2/11   train_loss = 5.701\n",
      "Epoch  69 Batch    1/11   train_loss = 5.707\n",
      "Epoch  70 Batch    0/11   train_loss = 5.701\n",
      "Epoch  70 Batch   10/11   train_loss = 5.705\n",
      "Epoch  71 Batch    9/11   train_loss = 5.703\n",
      "Epoch  72 Batch    8/11   train_loss = 5.855\n",
      "Epoch  73 Batch    7/11   train_loss = 5.745\n",
      "Epoch  74 Batch    6/11   train_loss = 5.673\n",
      "Epoch  75 Batch    5/11   train_loss = 5.737\n",
      "Epoch  76 Batch    4/11   train_loss = 5.585\n",
      "Epoch  77 Batch    3/11   train_loss = 5.556\n",
      "Epoch  78 Batch    2/11   train_loss = 5.623\n",
      "Epoch  79 Batch    1/11   train_loss = 5.636\n",
      "Epoch  80 Batch    0/11   train_loss = 5.606\n",
      "Epoch  80 Batch   10/11   train_loss = 5.629\n",
      "Epoch  81 Batch    9/11   train_loss = 5.577\n",
      "Epoch  82 Batch    8/11   train_loss = 5.715\n",
      "Epoch  83 Batch    7/11   train_loss = 5.597\n",
      "Epoch  84 Batch    6/11   train_loss = 5.541\n",
      "Epoch  85 Batch    5/11   train_loss = 5.594\n",
      "Epoch  86 Batch    4/11   train_loss = 5.456\n",
      "Epoch  87 Batch    3/11   train_loss = 5.432\n",
      "Epoch  88 Batch    2/11   train_loss = 5.473\n",
      "Epoch  89 Batch    1/11   train_loss = 5.510\n",
      "Epoch  90 Batch    0/11   train_loss = 5.462\n",
      "Epoch  90 Batch   10/11   train_loss = 5.460\n",
      "Epoch  91 Batch    9/11   train_loss = 5.408\n",
      "Epoch  92 Batch    8/11   train_loss = 5.513\n",
      "Epoch  93 Batch    7/11   train_loss = 5.413\n",
      "Epoch  94 Batch    6/11   train_loss = 5.389\n",
      "Epoch  95 Batch    5/11   train_loss = 5.451\n",
      "Epoch  96 Batch    4/11   train_loss = 5.258\n",
      "Epoch  97 Batch    3/11   train_loss = 5.191\n",
      "Epoch  98 Batch    2/11   train_loss = 5.204\n",
      "Epoch  99 Batch    1/11   train_loss = 5.181\n",
      "Epoch 100 Batch    0/11   train_loss = 5.113\n",
      "Epoch 100 Batch   10/11   train_loss = 5.074\n",
      "Epoch 101 Batch    9/11   train_loss = 5.003\n",
      "Epoch 102 Batch    8/11   train_loss = 5.076\n",
      "Epoch 103 Batch    7/11   train_loss = 5.021\n",
      "Epoch 104 Batch    6/11   train_loss = 4.908\n",
      "Epoch 105 Batch    5/11   train_loss = 4.960\n",
      "Epoch 106 Batch    4/11   train_loss = 4.819\n",
      "Epoch 107 Batch    3/11   train_loss = 4.648\n",
      "Epoch 108 Batch    2/11   train_loss = 4.745\n",
      "Epoch 109 Batch    1/11   train_loss = 4.720\n",
      "Epoch 110 Batch    0/11   train_loss = 4.599\n",
      "Epoch 110 Batch   10/11   train_loss = 4.540\n",
      "Epoch 111 Batch    9/11   train_loss = 4.401\n",
      "Epoch 112 Batch    8/11   train_loss = 4.417\n",
      "Epoch 113 Batch    7/11   train_loss = 4.355\n",
      "Epoch 114 Batch    6/11   train_loss = 4.195\n",
      "Epoch 115 Batch    5/11   train_loss = 4.253\n",
      "Epoch 116 Batch    4/11   train_loss = 4.134\n",
      "Epoch 117 Batch    3/11   train_loss = 3.968\n",
      "Epoch 118 Batch    2/11   train_loss = 4.077\n",
      "Epoch 119 Batch    1/11   train_loss = 4.018\n",
      "Epoch 120 Batch    0/11   train_loss = 3.964\n",
      "Epoch 120 Batch   10/11   train_loss = 3.864\n",
      "Epoch 121 Batch    9/11   train_loss = 3.905\n",
      "Epoch 122 Batch    8/11   train_loss = 3.826\n",
      "Epoch 123 Batch    7/11   train_loss = 3.880\n",
      "Epoch 124 Batch    6/11   train_loss = 3.651\n",
      "Epoch 125 Batch    5/11   train_loss = 3.705\n",
      "Epoch 126 Batch    4/11   train_loss = 3.587\n",
      "Epoch 127 Batch    3/11   train_loss = 3.366\n",
      "Epoch 128 Batch    2/11   train_loss = 3.316\n",
      "Epoch 129 Batch    1/11   train_loss = 3.331\n",
      "Epoch 130 Batch    0/11   train_loss = 3.187\n",
      "Epoch 130 Batch   10/11   train_loss = 3.092\n",
      "Epoch 131 Batch    9/11   train_loss = 2.984\n",
      "Epoch 132 Batch    8/11   train_loss = 2.958\n",
      "Epoch 133 Batch    7/11   train_loss = 2.989\n",
      "Epoch 134 Batch    6/11   train_loss = 2.780\n",
      "Epoch 135 Batch    5/11   train_loss = 2.858\n",
      "Epoch 136 Batch    4/11   train_loss = 2.791\n",
      "Epoch 137 Batch    3/11   train_loss = 2.602\n",
      "Epoch 138 Batch    2/11   train_loss = 2.620\n",
      "Epoch 139 Batch    1/11   train_loss = 2.595\n",
      "Epoch 140 Batch    0/11   train_loss = 2.539\n",
      "Epoch 140 Batch   10/11   train_loss = 2.416\n",
      "Epoch 141 Batch    9/11   train_loss = 2.391\n",
      "Epoch 142 Batch    8/11   train_loss = 2.366\n",
      "Epoch 143 Batch    7/11   train_loss = 2.436\n",
      "Epoch 144 Batch    6/11   train_loss = 2.282\n",
      "Epoch 145 Batch    5/11   train_loss = 2.351\n",
      "Epoch 146 Batch    4/11   train_loss = 2.304\n",
      "Epoch 147 Batch    3/11   train_loss = 2.102\n",
      "Epoch 148 Batch    2/11   train_loss = 2.088\n",
      "Epoch 149 Batch    1/11   train_loss = 2.050\n",
      "Epoch 150 Batch    0/11   train_loss = 1.918\n",
      "Epoch 150 Batch   10/11   train_loss = 1.867\n",
      "Epoch 151 Batch    9/11   train_loss = 1.782\n",
      "Epoch 152 Batch    8/11   train_loss = 1.767\n",
      "Epoch 153 Batch    7/11   train_loss = 1.843\n",
      "Epoch 154 Batch    6/11   train_loss = 1.682\n",
      "Epoch 155 Batch    5/11   train_loss = 1.791\n",
      "Epoch 156 Batch    4/11   train_loss = 1.733\n",
      "Epoch 157 Batch    3/11   train_loss = 1.604\n",
      "Epoch 158 Batch    2/11   train_loss = 1.559\n",
      "Epoch 159 Batch    1/11   train_loss = 1.552\n",
      "Epoch 160 Batch    0/11   train_loss = 1.452\n",
      "Epoch 160 Batch   10/11   train_loss = 1.416\n",
      "Epoch 161 Batch    9/11   train_loss = 1.374\n",
      "Epoch 162 Batch    8/11   train_loss = 1.330\n",
      "Epoch 163 Batch    7/11   train_loss = 1.408\n",
      "Epoch 164 Batch    6/11   train_loss = 1.213\n",
      "Epoch 165 Batch    5/11   train_loss = 1.273\n"
     ]
    },
    {
     "name": "stdout",
     "output_type": "stream",
     "text": [
      "Epoch 166 Batch    4/11   train_loss = 1.283\n",
      "Epoch 167 Batch    3/11   train_loss = 1.148\n",
      "Epoch 168 Batch    2/11   train_loss = 1.144\n",
      "Epoch 169 Batch    1/11   train_loss = 1.114\n",
      "Epoch 170 Batch    0/11   train_loss = 1.030\n",
      "Epoch 170 Batch   10/11   train_loss = 0.990\n",
      "Epoch 171 Batch    9/11   train_loss = 0.939\n",
      "Epoch 172 Batch    8/11   train_loss = 0.923\n",
      "Epoch 173 Batch    7/11   train_loss = 0.985\n",
      "Epoch 174 Batch    6/11   train_loss = 0.843\n",
      "Epoch 175 Batch    5/11   train_loss = 0.960\n",
      "Epoch 176 Batch    4/11   train_loss = 0.941\n",
      "Epoch 177 Batch    3/11   train_loss = 0.910\n",
      "Epoch 178 Batch    2/11   train_loss = 0.876\n",
      "Epoch 179 Batch    1/11   train_loss = 0.941\n",
      "Epoch 180 Batch    0/11   train_loss = 0.816\n",
      "Epoch 180 Batch   10/11   train_loss = 0.845\n",
      "Epoch 181 Batch    9/11   train_loss = 0.761\n",
      "Epoch 182 Batch    8/11   train_loss = 0.804\n",
      "Epoch 183 Batch    7/11   train_loss = 0.811\n",
      "Epoch 184 Batch    6/11   train_loss = 0.695\n",
      "Epoch 185 Batch    5/11   train_loss = 0.745\n",
      "Epoch 186 Batch    4/11   train_loss = 0.746\n",
      "Epoch 187 Batch    3/11   train_loss = 0.668\n",
      "Epoch 188 Batch    2/11   train_loss = 0.670\n",
      "Epoch 189 Batch    1/11   train_loss = 0.654\n",
      "Epoch 190 Batch    0/11   train_loss = 0.605\n",
      "Epoch 190 Batch   10/11   train_loss = 0.587\n",
      "Epoch 191 Batch    9/11   train_loss = 0.545\n",
      "Epoch 192 Batch    8/11   train_loss = 0.562\n",
      "Epoch 193 Batch    7/11   train_loss = 0.584\n",
      "Epoch 194 Batch    6/11   train_loss = 0.525\n",
      "Epoch 195 Batch    5/11   train_loss = 0.559\n",
      "Epoch 196 Batch    4/11   train_loss = 0.608\n",
      "Epoch 197 Batch    3/11   train_loss = 0.542\n",
      "Epoch 198 Batch    2/11   train_loss = 0.559\n",
      "Epoch 199 Batch    1/11   train_loss = 0.546\n",
      "Epoch 200 Batch    0/11   train_loss = 0.518\n",
      "Epoch 200 Batch   10/11   train_loss = 0.505\n",
      "Epoch 201 Batch    9/11   train_loss = 0.464\n",
      "Epoch 202 Batch    8/11   train_loss = 0.489\n",
      "Epoch 203 Batch    7/11   train_loss = 0.503\n",
      "Epoch 204 Batch    6/11   train_loss = 0.455\n",
      "Epoch 205 Batch    5/11   train_loss = 0.487\n",
      "Epoch 206 Batch    4/11   train_loss = 0.527\n",
      "Epoch 207 Batch    3/11   train_loss = 0.479\n",
      "Epoch 208 Batch    2/11   train_loss = 0.485\n",
      "Epoch 209 Batch    1/11   train_loss = 0.485\n",
      "Epoch 210 Batch    0/11   train_loss = 0.457\n",
      "Epoch 210 Batch   10/11   train_loss = 0.447\n",
      "Epoch 211 Batch    9/11   train_loss = 0.413\n",
      "Epoch 212 Batch    8/11   train_loss = 0.440\n",
      "Epoch 213 Batch    7/11   train_loss = 0.452\n",
      "Epoch 214 Batch    6/11   train_loss = 0.413\n",
      "Epoch 215 Batch    5/11   train_loss = 0.440\n",
      "Epoch 216 Batch    4/11   train_loss = 0.482\n",
      "Epoch 217 Batch    3/11   train_loss = 0.438\n",
      "Epoch 218 Batch    2/11   train_loss = 0.444\n",
      "Epoch 219 Batch    1/11   train_loss = 0.448\n",
      "Epoch 220 Batch    0/11   train_loss = 0.423\n",
      "Epoch 220 Batch   10/11   train_loss = 0.413\n",
      "Epoch 221 Batch    9/11   train_loss = 0.382\n",
      "Epoch 222 Batch    8/11   train_loss = 0.411\n",
      "Epoch 223 Batch    7/11   train_loss = 0.419\n",
      "Epoch 224 Batch    6/11   train_loss = 0.388\n",
      "Epoch 225 Batch    5/11   train_loss = 0.412\n",
      "Epoch 226 Batch    4/11   train_loss = 0.454\n",
      "Epoch 227 Batch    3/11   train_loss = 0.411\n",
      "Epoch 228 Batch    2/11   train_loss = 0.417\n",
      "Epoch 229 Batch    1/11   train_loss = 0.424\n",
      "Epoch 230 Batch    0/11   train_loss = 0.401\n",
      "Epoch 230 Batch   10/11   train_loss = 0.390\n",
      "Epoch 231 Batch    9/11   train_loss = 0.361\n",
      "Epoch 232 Batch    8/11   train_loss = 0.392\n",
      "Epoch 233 Batch    7/11   train_loss = 0.397\n",
      "Epoch 234 Batch    6/11   train_loss = 0.370\n",
      "Epoch 235 Batch    5/11   train_loss = 0.392\n",
      "Epoch 236 Batch    4/11   train_loss = 0.434\n",
      "Epoch 237 Batch    3/11   train_loss = 0.393\n",
      "Epoch 238 Batch    2/11   train_loss = 0.399\n",
      "Epoch 239 Batch    1/11   train_loss = 0.407\n",
      "Epoch 240 Batch    0/11   train_loss = 0.385\n",
      "Epoch 240 Batch   10/11   train_loss = 0.374\n",
      "Epoch 241 Batch    9/11   train_loss = 0.347\n",
      "Epoch 242 Batch    8/11   train_loss = 0.378\n",
      "Epoch 243 Batch    7/11   train_loss = 0.382\n",
      "Epoch 244 Batch    6/11   train_loss = 0.358\n",
      "Epoch 245 Batch    5/11   train_loss = 0.378\n",
      "Epoch 246 Batch    4/11   train_loss = 0.420\n",
      "Epoch 247 Batch    3/11   train_loss = 0.379\n",
      "Epoch 248 Batch    2/11   train_loss = 0.385\n",
      "Epoch 249 Batch    1/11   train_loss = 0.396\n",
      "Model Trained and Saved\n"
     ]
    }
   ],
   "source": [
    "\"\"\"\n",
    "DON'T MODIFY ANYTHING IN THIS CELL\n",
    "\"\"\"\n",
    "batches = get_batches(int_text, batch_size, seq_length)\n",
    "\n",
    "with tf.Session(graph=train_graph) as sess:\n",
    "    sess.run(tf.global_variables_initializer())\n",
    "\n",
    "    for epoch_i in range(num_epochs):\n",
    "        state = sess.run(initial_state, {input_text: batches[0][0]})\n",
    "\n",
    "        for batch_i, (x, y) in enumerate(batches):\n",
    "            feed = {\n",
    "                input_text: x,\n",
    "                targets: y,\n",
    "                initial_state: state,\n",
    "                lr: learning_rate}\n",
    "            train_loss, state, _ = sess.run([cost, final_state, train_op], feed)\n",
    "\n",
    "            # Show every <show_every_n_batches> batches\n",
    "            if (epoch_i * len(batches) + batch_i) % show_every_n_batches == 0:\n",
    "                print('Epoch {:>3} Batch {:>4}/{}   train_loss = {:.3f}'.format(\n",
    "                    epoch_i,\n",
    "                    batch_i,\n",
    "                    len(batches),\n",
    "                    train_loss))\n",
    "\n",
    "    # Save Model\n",
    "    saver = tf.train.Saver()\n",
    "    saver.save(sess, save_dir)\n",
    "    print('Model Trained and Saved')"
   ]
  },
  {
   "cell_type": "markdown",
   "metadata": {},
   "source": [
    "## 储存参数\n",
    "储存 `seq_length` 和 `save_dir` 来生成新的电视剧剧本。"
   ]
  },
  {
   "cell_type": "code",
   "execution_count": 54,
   "metadata": {
    "collapsed": true
   },
   "outputs": [],
   "source": [
    "\"\"\"\n",
    "DON'T MODIFY ANYTHING IN THIS CELL\n",
    "\"\"\"\n",
    "# Save parameters for checkpoint\n",
    "helper.save_params((seq_length, save_dir))"
   ]
  },
  {
   "cell_type": "markdown",
   "metadata": {},
   "source": [
    "# 检查点"
   ]
  },
  {
   "cell_type": "code",
   "execution_count": 55,
   "metadata": {
    "collapsed": true
   },
   "outputs": [],
   "source": [
    "\"\"\"\n",
    "DON'T MODIFY ANYTHING IN THIS CELL\n",
    "\"\"\"\n",
    "import tensorflow as tf\n",
    "import numpy as np\n",
    "import helper\n",
    "import problem_unittests as tests\n",
    "\n",
    "_, vocab_to_int, int_to_vocab, token_dict = helper.load_preprocess()\n",
    "seq_length, load_dir = helper.load_params()"
   ]
  },
  {
   "cell_type": "markdown",
   "metadata": {},
   "source": [
    "## 实现生成函数\n",
    "### 获取 Tensors\n",
    "使用 [`get_tensor_by_name()`](https://www.tensorflow.org/api_docs/python/tf/Graph#get_tensor_by_name)函数从 `loaded_graph` 中获取 tensor。  使用下面的名称获取 tensor：\n",
    "\n",
    "- \"input:0\"\n",
    "- \"initial_state:0\"\n",
    "- \"final_state:0\"\n",
    "- \"probs:0\"\n",
    "\n",
    "返回下列元组中的 tensor `(InputTensor, InitialStateTensor, FinalStateTensor, ProbsTensor)`"
   ]
  },
  {
   "cell_type": "code",
   "execution_count": 56,
   "metadata": {},
   "outputs": [
    {
     "name": "stdout",
     "output_type": "stream",
     "text": [
      "Tests Passed\n"
     ]
    }
   ],
   "source": [
    "def get_tensors(loaded_graph):\n",
    "    \"\"\"\n",
    "    Get input, initial state, final state, and probabilities tensor from <loaded_graph>\n",
    "    :param loaded_graph: TensorFlow graph loaded from file\n",
    "    :return: Tuple (InputTensor, InitialStateTensor, FinalStateTensor, ProbsTensor)\n",
    "    \"\"\"\n",
    "    # TODO: Implement Function\n",
    "    \n",
    "    InputTensor = loaded_graph.get_tensor_by_name(name=\"input:0\")\n",
    "    InitialStateTensor = loaded_graph.get_tensor_by_name(name=\"initial_state:0\")\n",
    "    FinalStateTensor = loaded_graph.get_tensor_by_name(name=\"final_state:0\")\n",
    "    ProbsTensor = loaded_graph.get_tensor_by_name(name=\"probs:0\")\n",
    "    \n",
    "    return InputTensor, InitialStateTensor, FinalStateTensor, ProbsTensor\n",
    "\n",
    "\n",
    "\"\"\"\n",
    "DON'T MODIFY ANYTHING IN THIS CELL THAT IS BELOW THIS LINE\n",
    "\"\"\"\n",
    "tests.test_get_tensors(get_tensors)"
   ]
  },
  {
   "cell_type": "markdown",
   "metadata": {},
   "source": [
    "### 选择词汇\n",
    "实现 `pick_word()` 函数来使用 `probabilities` 选择下一个词汇。"
   ]
  },
  {
   "cell_type": "code",
   "execution_count": 57,
   "metadata": {},
   "outputs": [
    {
     "name": "stdout",
     "output_type": "stream",
     "text": [
      "Tests Passed\n"
     ]
    }
   ],
   "source": [
    "import random\n",
    "def pick_word(probabilities, int_to_vocab):\n",
    "    \"\"\"\n",
    "    Pick the next word in the generated text\n",
    "    :param probabilities: Probabilites of the next word\n",
    "    :param int_to_vocab: Dictionary of word ids as the keys and words as the values\n",
    "    :return: String of the predicted word\n",
    "    \"\"\"\n",
    "    # TODO: Implement Function\n",
    "    #尝试两种概率的选取，一个选最大，一个选最小，生成的文本都相同，是否有其他好的概率\n",
    "    #选取办法，我最后选择的是随机数。。。\n",
    "    return np.random.choice(list(int_to_vocab.values()), 1, p=probabilities)[0]\n",
    "'''\n",
    "    ids1 = np.where(probabilities==np.min(probabilities))\n",
    "    ids2 = np.where(probabilities==np.min(probabilities))\n",
    "    ids_max = ids1[0][0]\n",
    "    ids_min = ids2[0][0]\n",
    "    iids = 0\n",
    "    i =  random.randint(1, len(int_to_vocab))\n",
    "    if i != ids_max and i != ids_min:\n",
    "        iids = i\n",
    "        i =  random.randint(0, len(int_to_vocab)-1)\n",
    "    pre_word = int_to_vocab[iids]\n",
    "    \n",
    "    return pre_word\n",
    "'''\n",
    "\n",
    "\"\"\"\n",
    "DON'T MODIFY ANYTHING IN THIS CELL THAT IS BELOW THIS LINE\n",
    "\"\"\"\n",
    "tests.test_pick_word(pick_word)"
   ]
  },
  {
   "cell_type": "markdown",
   "metadata": {},
   "source": [
    "## 生成电视剧剧本\n",
    "这将为你生成一个电视剧剧本。通过设置 `gen_length` 来调整你想生成的剧本长度。"
   ]
  },
  {
   "cell_type": "code",
   "execution_count": 60,
   "metadata": {},
   "outputs": [
    {
     "name": "stdout",
     "output_type": "stream",
     "text": [
      "homer_simpson: ralph more)\n",
      ". i mr really gee hand even home /? no this to out to clear to kansas kid..\n",
      "moe_szyslak:(ned_flanders:(small there.. homer_simpson: hank_williams_jr. okay, you're noise, uh going the my the give got you give right. mind who.\n",
      "homer_simpson: homer_simpson: have\n",
      "\n",
      "don't english simpson, ol' of booking smiling dollars, much in a barn.. stories into for a marge is\n",
      "\n",
      "i so a read.\n",
      "yeah).\n",
      "know,\n",
      "guy., homer's moe_szyslak: really. you? he's what honor! carl_carlson: yeah) i you are that worth if the don't, under! yeah.\n",
      "kemi:?, want to look sounds!\n",
      "marge_simpson:, need off) a!\n",
      "there you don't can that\".\n",
      "start on for man... gentlemen?.\n",
      "(hey. tv. that, wait!.. i many to that there don't and when, went to though gonna tv.\n",
      "warm_female_voice: ah beauty) you was think my\n"
     ]
    }
   ],
   "source": [
    "gen_length = 200\n",
    "# homer_simpson, moe_szyslak, or Barney_Gumble\n",
    "prime_word = 'homer_simpson'\n",
    "\n",
    "#loaded_graph = tf.get_default_graph()\n",
    "\"\"\"\n",
    "DON'T MODIFY ANYTHING IN THIS CELL THAT IS BELOW THIS LINE\n",
    "\"\"\"\n",
    "loaded_graph = tf.Graph()\n",
    "with tf.Session(graph=loaded_graph) as sess:\n",
    "    # Load saved model\n",
    "    loader = tf.train.import_meta_graph(load_dir + '.meta')\n",
    "    loader.restore(sess, load_dir)\n",
    "\n",
    "    # Get Tensors from loaded model\n",
    "    input_text, initial_state, final_state, probs = get_tensors(loaded_graph)\n",
    "\n",
    "    # Sentences generation setup\n",
    "    gen_sentences = [prime_word + ':']\n",
    "    prev_state = sess.run(initial_state, {input_text: np.array([[1]])})\n",
    "\n",
    "    # Generate sentences\n",
    "    for n in range(gen_length):\n",
    "        # Dynamic Input\n",
    "        dyn_input = [[vocab_to_int[word] for word in gen_sentences[-seq_length:]]]\n",
    "        dyn_seq_length = len(dyn_input[0])\n",
    "\n",
    "        # Get Prediction\n",
    "        probabilities, prev_state = sess.run(\n",
    "            [probs, final_state],\n",
    "            {input_text: dyn_input, initial_state: prev_state})\n",
    "        \n",
    "        pred_word = pick_word(probabilities[dyn_seq_length-1], int_to_vocab)\n",
    "\n",
    "        gen_sentences.append(pred_word)\n",
    "    \n",
    "    # Remove tokens\n",
    "    tv_script = ' '.join(gen_sentences)\n",
    "    for key, token in token_dict.items():\n",
    "        ending = ' ' if key in ['\\n', '(', '\"'] else ''\n",
    "        tv_script = tv_script.replace(' ' + token.lower(), key)\n",
    "    tv_script = tv_script.replace('\\n ', '\\n')\n",
    "    tv_script = tv_script.replace('( ', '(')\n",
    "        \n",
    "    print(tv_script)"
   ]
  },
  {
   "cell_type": "markdown",
   "metadata": {},
   "source": [
    "# 这个电视剧剧本是无意义的\n",
    "如果这个电视剧剧本毫无意义，那也没有关系。我们的训练文本不到一兆字节。为了获得更好的结果，你需要使用更小的词汇范围或是更多数据。幸运的是，我们的确拥有更多数据！在本项目开始之初我们也曾提过，这是[另一个数据集](https://www.kaggle.com/wcukierski/the-simpsons-by-the-data)的子集。我们并没有让你基于所有数据进行训练，因为这将耗费大量时间。然而，你可以随意使用这些数据训练你的神经网络。当然，是在完成本项目之后。\n",
    "# 提交项目\n",
    "在提交项目时，请确保你在保存 notebook 前运行了所有的单元格代码。请将 notebook 文件保存为 \"dlnd_tv_script_generation.ipynb\"，并将它作为 HTML 文件保存在 \"File\" -> \"Download as\" 中。请将 \"helper.py\" 和 \"problem_unittests.py\" 文件一并提交。"
   ]
  }
 ],
 "metadata": {
  "kernelspec": {
   "display_name": "Python 3",
   "language": "python",
   "name": "python3"
  },
  "language_info": {
   "codemirror_mode": {
    "name": "ipython",
    "version": 3
   },
   "file_extension": ".py",
   "mimetype": "text/x-python",
   "name": "python",
   "nbconvert_exporter": "python",
   "pygments_lexer": "ipython3",
   "version": "3.5.4"
  }
 },
 "nbformat": 4,
 "nbformat_minor": 2
}
